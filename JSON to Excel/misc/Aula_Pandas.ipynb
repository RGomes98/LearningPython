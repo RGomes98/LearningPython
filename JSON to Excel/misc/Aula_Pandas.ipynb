{
 "cells": [
  {
   "cell_type": "markdown",
   "id": "4c6a6500",
   "metadata": {},
   "source": [
    "# Pandas Tutorial"
   ]
  },
  {
   "cell_type": "code",
   "execution_count": null,
   "id": "a2b7b748",
   "metadata": {},
   "outputs": [],
   "source": [
    "import pandas as pd"
   ]
  },
  {
   "cell_type": "code",
   "execution_count": null,
   "id": "369dc81e",
   "metadata": {
    "scrolled": true
   },
   "outputs": [],
   "source": [
    "# verificando a versão do Pandas:\n",
    "print(pd.__version__)\n"
   ]
  },
  {
   "cell_type": "markdown",
   "id": "0a9cb357",
   "metadata": {},
   "source": [
    "# Séries de dados: criando, manipulando, consultando e deletando:"
   ]
  },
  {
   "cell_type": "code",
   "execution_count": null,
   "id": "7a7338dc",
   "metadata": {},
   "outputs": [],
   "source": [
    "# Criando uma série simples a partir de uma lista:\n",
    "\n",
    "# Lista:\n",
    "arr = [0, 1, 2, 3, 4]\n",
    "\n",
    "# Criando o array:\n",
    "s1 = pd.Series(arr)\n",
    "s1"
   ]
  },
  {
   "cell_type": "code",
   "execution_count": null,
   "id": "18d3eb03",
   "metadata": {},
   "outputs": [],
   "source": [
    "# Criando uma ordem para os índices começando em 1:\n",
    "order = [1, 2, 3, 4, 5]\n",
    "s2 = pd.Series( arr, order)\n",
    "s2"
   ]
  },
  {
   "cell_type": "code",
   "execution_count": null,
   "id": "edad58c8",
   "metadata": {},
   "outputs": [],
   "source": [
    "# Integrando com numpy:\n",
    "import numpy as np\n",
    "# Criando um array numpy contendo 5 valores aleatórios:\n",
    "n = np.random.randn(5)\n",
    "\n",
    "my_index = ['a', 'b', 'c', 'd', 'e']\n",
    "\n",
    "# Podemos criar pandas series a partir de numpy arrays:\n",
    "s2 = pd.Series( n, index=my_index)\n",
    "s2"
   ]
  },
  {
   "cell_type": "code",
   "execution_count": null,
   "id": "7f627d20",
   "metadata": {},
   "outputs": [],
   "source": [
    "# Criando uma série como um dicionário:\n",
    "dictionary={'a':1, 'b':2, 'c':3, 'd':4, 'e':5}\n",
    "\n",
    "s3 = pd.Series(dictionary)\n",
    "s3\n"
   ]
  },
  {
   "cell_type": "code",
   "execution_count": null,
   "id": "310629e8",
   "metadata": {},
   "outputs": [],
   "source": [
    "# Como último exemplo, modificando o índice de uma série:\n",
    "print(s1)\n",
    "# Inserindo um índice: \n",
    "s1.index = ['A', 'B', 'C', 'D', 'E']\n",
    "\n",
    "print(s1)"
   ]
  },
  {
   "cell_type": "markdown",
   "id": "e52c9630",
   "metadata": {},
   "source": [
    "# Seleção e visualização dos dados:\n"
   ]
  },
  {
   "cell_type": "code",
   "execution_count": null,
   "id": "7c9d80b2",
   "metadata": {},
   "outputs": [],
   "source": [
    "# Seleção básica de dados. Um pandas dataframe pode sempre sofrer seleções a partir do uso de [x:y]. Exemplos:\n",
    "\n",
    "# Selecionar os primeiros 3 elementos do vetor (começa em 0, termina em 3, o 0 é opcional):\n",
    "print(s1[0:3])\n",
    "\n",
    "print(s1[:3])\n",
    "\n",
    "print(s1[:-2])"
   ]
  },
  {
   "cell_type": "code",
   "execution_count": null,
   "id": "ad9fff2c",
   "metadata": {},
   "outputs": [],
   "source": [
    "# Selecionar os últimos 3 elementos do vetor (começa em 3, termina em 5, o 5 é opcional):\n",
    "print(s1[3:5])\n",
    "\n",
    "print(s1[3:])\n",
    "\n",
    "print(s1[-2:])\n"
   ]
  },
  {
   "cell_type": "code",
   "execution_count": null,
   "id": "9225a01f",
   "metadata": {},
   "outputs": [],
   "source": [
    "# Adicionando dataframes. Cria s4 como s1 seguido de s3:\n",
    "s4 = s1.append(s3) # << Versão antiga, deve ser evitada.\n",
    "\n",
    "print(s4)"
   ]
  },
  {
   "cell_type": "code",
   "execution_count": null,
   "id": "9951be1e",
   "metadata": {},
   "outputs": [],
   "source": [
    "# Removendo elementos: remove o índice 'e' do dataframe:\n",
    "s4.drop('e') # << Essa linha de código não muda a série de fato, já que é um elemento de consulta. "
   ]
  },
  {
   "cell_type": "code",
   "execution_count": null,
   "id": "379cdc5e",
   "metadata": {},
   "outputs": [],
   "source": [
    "print(s4)\n",
    "# Para mudança efetiva de s4, temos que atribuir o novo dataframe à série original, como abaixo:\n",
    "s4 = s4.drop('e')\n",
    "print(s4)"
   ]
  },
  {
   "cell_type": "markdown",
   "id": "acbc5578",
   "metadata": {},
   "source": [
    "# Operações com séries:"
   ]
  },
  {
   "cell_type": "code",
   "execution_count": null,
   "id": "e029b44d",
   "metadata": {},
   "outputs": [],
   "source": [
    "# Criando dois arrays como exemplos de entrada:\n",
    "arr1=[0, 1, 2, 3, 4, 5 ,7]\n",
    "arr2=[6, 7, 8, 9, 5]\n",
    "\n",
    "# Transformando esses arrays em série pandas:\n",
    "s5 = pd.Series(arr2)\n",
    "print(s5)\n",
    "\n",
    "s6 = pd.Series(arr1)\n",
    "print(s6)\n"
   ]
  },
  {
   "cell_type": "code",
   "execution_count": null,
   "id": "566038d0",
   "metadata": {},
   "outputs": [],
   "source": [
    "# Somando séries: como no nosso caso as séries são de tamanhos diferentes, será inserido o valor Not A Number (NAN)\n",
    "# nas posições em que é impossível realizar a soma (repare que em numpy isso geraria um erro):\n",
    "s6.add(s5)"
   ]
  },
  {
   "cell_type": "code",
   "execution_count": null,
   "id": "2657621c",
   "metadata": {},
   "outputs": [],
   "source": [
    "# Como realizar subtração entre séries:\n",
    "s6.sub(s5)"
   ]
  },
  {
   "cell_type": "code",
   "execution_count": null,
   "id": "9fa8e7e8",
   "metadata": {},
   "outputs": [],
   "source": [
    "# Como realizar multiplicação:\n",
    "s5.mul(s6)"
   ]
  },
  {
   "cell_type": "code",
   "execution_count": null,
   "id": "a4286499",
   "metadata": {},
   "outputs": [],
   "source": [
    "# Como realizar divisão (repare que nesse caso, como temos uma divisão por 0, o valor resultante será inf):\n",
    "s5.div(s6)"
   ]
  },
  {
   "cell_type": "code",
   "execution_count": null,
   "id": "22ab8dea",
   "metadata": {},
   "outputs": [],
   "source": [
    "# Obtendo valores de máximo, média e mínimo (repare que valores NaN são desconsiderados):\n",
    "s7 = s5.mul(s6)\n",
    "print(s7)\n",
    "\n",
    "# Máximo, média e mínimo:\n",
    "print( 'Max:', s7.max())\n",
    "print( \"Min\", s7.min())\n",
    "print( 'Mean', s7.mean())"
   ]
  },
  {
   "cell_type": "markdown",
   "id": "34bc6c52",
   "metadata": {},
   "source": [
    "# Criando dataframes:"
   ]
  },
  {
   "cell_type": "code",
   "execution_count": null,
   "id": "61ad0532",
   "metadata": {},
   "outputs": [],
   "source": [
    "# Criando uma série onde os índices são formados por datas/horas de seis dias consecutivos a partir de hoje:\n",
    "dates = pd.date_range('today', periods=6)\n",
    "print(dates)"
   ]
  },
  {
   "cell_type": "code",
   "execution_count": null,
   "id": "89e8f58f",
   "metadata": {},
   "outputs": [],
   "source": [
    "# Criando dataframe com os índices chamados A, B, C e D:\n",
    "columns = ('A', 'B', 'C', \"D\") # << Aspas simples ou duplas são opcionais em python!!!\n",
    "\n",
    "# Criando uma matrix de 6,4 com valores (aleatórios) para inserir no dataframe:\n",
    "num_arr = np.random.randn(6,4)\n",
    "\n",
    "# Criando o dataframe com índices (nomes das linhas) dado por 'dates', índexes (nomes das colunas) dador por\n",
    "# columns, e valores por 'num_arr'\n",
    "df1 = pd.DataFrame( num_arr, index=dates, columns=columns)\n",
    "print( df1 )\n"
   ]
  },
  {
   "cell_type": "code",
   "execution_count": null,
   "id": "a5040fe7",
   "metadata": {},
   "outputs": [],
   "source": [
    "# Outro exemplo de criação de um dataframe, mais completo e complexo:\n",
    "data = { 'animal': ['cat', 'cat', 'snake', 'dog', 'dog', 'cat', 'snake', 'cat', 'dog', 'dog'], \n",
    "         'age': [2.5, 3, 0.5, np.nan, 5, 2, 4.5, np.nan, 7, 3],\n",
    "         'visits': [1, 3, 2, 3, 2, 3, 1, 1, 2, 1],\n",
    "         'priority': ['yes', 'yes', 'no', 'yes', 'no', 'no', 'no', 'yes', 'no', 'no'] }\n",
    "labels = ['a', 'b', 'c', 'd', 'e', 'f', 'g', 'h', 'i', 'j']\n",
    "\n",
    "# Criando o dataframe:\n",
    "df2 = pd.DataFrame( data, index=labels)\n",
    "print(df2)"
   ]
  },
  {
   "cell_type": "code",
   "execution_count": null,
   "id": "cde8375f",
   "metadata": {},
   "outputs": [],
   "source": [
    "# Como saber os tipos de dados do dataframe?\n",
    "print(df2.dtypes)"
   ]
  },
  {
   "cell_type": "code",
   "execution_count": null,
   "id": "e80bfbce",
   "metadata": {},
   "outputs": [],
   "source": [
    "# Facilidades: quando temos dataframes muito grande, vale imprimir as primeiras linhas somente:\n",
    "print(df2.head(3))"
   ]
  },
  {
   "cell_type": "code",
   "execution_count": null,
   "id": "3003f898",
   "metadata": {},
   "outputs": [],
   "source": [
    "# Também podemos criar um dataframe menor a partir de outro:\n",
    "df3 = df2.head(3)\n",
    "\n",
    "print(df3)"
   ]
  },
  {
   "cell_type": "code",
   "execution_count": null,
   "id": "952e61e4",
   "metadata": {},
   "outputs": [],
   "source": [
    "# O mesmo vale para as últimas linhas de um dataframe, usando tail ao invés de head:\n",
    "df4 = df2.tail(3)\n",
    "\n",
    "print(df4)"
   ]
  },
  {
   "cell_type": "code",
   "execution_count": null,
   "id": "7410d8bd",
   "metadata": {},
   "outputs": [],
   "source": [
    "# Imprimindo o index (nomes das linhas):\n",
    "print(df2.index)\n",
    "\n",
    "# Imprimindo as colunas (nomes das colunas):\n",
    "print(df2.columns)\n",
    "\n",
    "# A função \"values\" dá uma boa forma de voltar um dataframe para o formato numpy:\n",
    "print(df2.values)"
   ]
  },
  {
   "cell_type": "code",
   "execution_count": null,
   "id": "b8c2280a",
   "metadata": {},
   "outputs": [],
   "source": [
    "# Examinando informações sobre um dataframe:\n",
    "df3.describe()"
   ]
  },
  {
   "cell_type": "code",
   "execution_count": null,
   "id": "0603437d",
   "metadata": {},
   "outputs": [],
   "source": [
    "# Podemos transpor um dataframe:\n",
    "df5 = df2.T\n",
    "print(df5)"
   ]
  },
  {
   "cell_type": "code",
   "execution_count": null,
   "id": "cfcb62a1",
   "metadata": {},
   "outputs": [],
   "source": [
    "# Podemos também ordenar um dataframe de acordo com uma de suas colunas:\n",
    "df6= df2.sort_values(by='age')\n",
    "print(df6)"
   ]
  },
  {
   "cell_type": "code",
   "execution_count": null,
   "id": "8ffc2df5",
   "metadata": {},
   "outputs": [],
   "source": [
    "# Fatiando um dataframe:\n",
    "df7 = df2[2:4]\n",
    "print(df7)"
   ]
  },
  {
   "cell_type": "code",
   "execution_count": null,
   "id": "dc9466c1",
   "metadata": {},
   "outputs": [],
   "source": [
    "# Pegando somente as colunas que quisermos:\n",
    "df8 = df2[['animal', 'age']]\n",
    "print(df8)"
   ]
  },
  {
   "cell_type": "code",
   "execution_count": null,
   "id": "febe4069",
   "metadata": {},
   "outputs": [],
   "source": [
    "# Alternativamente, podemos utilizar a função iloc (integer location):\n",
    "df8 = df2.iloc[2:4]\n",
    "print(df8)"
   ]
  },
  {
   "cell_type": "code",
   "execution_count": null,
   "id": "ca3e3b71",
   "metadata": {},
   "outputs": [],
   "source": [
    "# Criar uma cópia de um dataframe qualquer pode ser feito através da função 'copy':\n",
    "df9 = df2.copy()\n",
    "print(df9)"
   ]
  },
  {
   "cell_type": "code",
   "execution_count": null,
   "id": "78fea834",
   "metadata": {},
   "outputs": [],
   "source": [
    "# Caso queiramos saber quais dos valores do dataframe são 'null', usamos a fução 'isnull':\n",
    "print(df2.isnull())"
   ]
  },
  {
   "cell_type": "code",
   "execution_count": null,
   "id": "71995f6d",
   "metadata": {},
   "outputs": [],
   "source": [
    "# Para mudar o valor de uma posição, basta acessá-la através do seu nome:\n",
    "df9.loc['d', 'age'] = 10\n",
    "print(df9)"
   ]
  },
  {
   "cell_type": "code",
   "execution_count": null,
   "id": "8598bcc5",
   "metadata": {},
   "outputs": [],
   "source": [
    "# Caso utilizemos a função 'mean' ela retornará a média somente para as colunas numéricas:\n",
    "print(df9.mean())"
   ]
  },
  {
   "cell_type": "code",
   "execution_count": null,
   "id": "fad199c9",
   "metadata": {},
   "outputs": [],
   "source": [
    "# Lembre-se de que cada coluna equivale a um array. Portanto, podemos chamar as funções que vimos para arrays:\n",
    "print(df9['visits'].sum())\n",
    "print(df9['age'].mean())"
   ]
  },
  {
   "cell_type": "markdown",
   "id": "21a02913",
   "metadata": {},
   "source": [
    "# Operações específicas para valores faltantes:"
   ]
  },
  {
   "cell_type": "code",
   "execution_count": null,
   "id": "27627d36",
   "metadata": {},
   "outputs": [],
   "source": []
  }
 ],
 "metadata": {
  "kernelspec": {
   "display_name": "Python 3.10.7 64-bit",
   "language": "python",
   "name": "python3"
  },
  "language_info": {
   "codemirror_mode": {
    "name": "ipython",
    "version": 3
   },
   "file_extension": ".py",
   "mimetype": "text/x-python",
   "name": "python",
   "nbconvert_exporter": "python",
   "pygments_lexer": "ipython3",
   "version": "3.10.7"
  },
  "vscode": {
   "interpreter": {
    "hash": "71353cfcf24066677fdacd2a04c685f2a50fc3eb4f33870b3a6cc69785f6a645"
   }
  }
 },
 "nbformat": 4,
 "nbformat_minor": 5
}
